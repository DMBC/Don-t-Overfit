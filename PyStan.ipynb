{
  "nbformat": 4,
  "nbformat_minor": 0,
  "metadata": {
    "colab": {
      "name": "PyStan.ipynb",
      "version": "0.3.2",
      "provenance": [],
      "collapsed_sections": [],
      "include_colab_link": true
    },
    "kernelspec": {
      "name": "python3",
      "display_name": "Python 3"
    }
  },
  "cells": [
    {
      "cell_type": "markdown",
      "metadata": {
        "id": "view-in-github",
        "colab_type": "text"
      },
      "source": [
        "<a href=\"https://colab.research.google.com/github/roshank1605A04/Don-t-Overfit/blob/master/PyStan.ipynb\" target=\"_parent\"><img src=\"https://colab.research.google.com/assets/colab-badge.svg\" alt=\"Open In Colab\"/></a>"
      ]
    },
    {
      "cell_type": "code",
      "metadata": {
        "id": "zuCduP_OdVHz",
        "colab_type": "code",
        "colab": {}
      },
      "source": [
        "import pystan                                                                                                                                        \n",
        "import pandas as pd                                                                                  \n",
        "import numpy as np                                                                                   \n",
        "                                                                                                     \n",
        "code = \"\"\"                                                                                           \n",
        "data {                                                                                               \n",
        "  int N; //the number of training observations                                                       \n",
        "  int N2; //the number of test observations                                                          \n",
        "  int K; //the number of features                                                                    \n",
        "  int y[N]; //the response                                                                           \n",
        "  matrix[N,K] X; //the model matrix                                                                  \n",
        "  matrix[N2,K] new_X; //the matrix for the predicted values                                          \n",
        "}                                                                                                    \n",
        "parameters {                                                                                         \n",
        "  real alpha;                                                                                        \n",
        "  vector[K] beta; //the regression parameters                                                        \n",
        "}                                                                                                    \n",
        "transformed parameters {                                                                             \n",
        "  vector[N] linpred;                                                                                 \n",
        "  linpred = alpha+X*beta;                                                                            \n",
        "}                                                                                                    \n",
        "model {                                                                                              \n",
        "  alpha ~ cauchy(0,10); //prior for the intercept following Gelman 2008                              \n",
        "                                                                                                     \n",
        "  for(i in 1:K)                                                                                      \n",
        "    beta[i] ~ student_t(1, 0, 0.03);                                                                 \n",
        "                                                                                                     \n",
        "  y ~ bernoulli_logit(linpred);                                                                      \n",
        "}                                                                                                    \n",
        "generated quantities {                                                                               \n",
        "  vector[N2] y_pred;                                                                                 \n",
        "  y_pred = alpha+new_X*beta; //the y values predicted by the model                                   \n",
        "}                                                                                                    \n",
        "\"\"\"               \n",
        "\n",
        "train = pd.read_csv('../input/train.csv')                                                            \n",
        "train.pop('id')                                                                                      \n",
        "target = train.pop('target').astype(int)                                                             \n",
        "                                                                                                     \n",
        "test = pd.read_csv('../input/test.csv')                                                              \n",
        "ids = test.pop('id')                                                                                 \n",
        "                                                                                                     \n",
        "data = {                                                                                             \n",
        "    'N': 250,                                                                                        \n",
        "    'N2': 19750,                                                                                     \n",
        "    'K': 300,                                                                                        \n",
        "    'y': target,                                                                                     \n",
        "    'X': train,                                                                                      \n",
        "    'new_X': test,                                                                                   \n",
        "}                                                                                                    \n",
        "                                                                                                     \n",
        "sm = pystan.StanModel(model_code=code)                                                               \n",
        "fit = sm.sampling(data=data, seed=1234)                                                              \n",
        "ex = fit.extract(permuted=True)                                                                      \n",
        "target = np.mean(ex['y_pred'], axis=0)                                                               \n",
        "df = pd.DataFrame({'id': ids, 'target': target})                                                     \n",
        "df[['id', 'target']].to_csv('submission.csv', index=False)      "
      ],
      "execution_count": 0,
      "outputs": []
    }
  ]
}