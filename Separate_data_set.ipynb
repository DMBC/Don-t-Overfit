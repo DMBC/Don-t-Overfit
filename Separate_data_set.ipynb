{
  "nbformat": 4,
  "nbformat_minor": 0,
  "metadata": {
    "colab": {
      "name": "Separate_data_set.ipynb",
      "version": "0.3.2",
      "provenance": [],
      "include_colab_link": true
    },
    "kernelspec": {
      "name": "python3",
      "display_name": "Python 3"
    }
  },
  "cells": [
    {
      "cell_type": "markdown",
      "metadata": {
        "id": "view-in-github",
        "colab_type": "text"
      },
      "source": [
        "<a href=\"https://colab.research.google.com/github/DMBC/Don-t-Overfit/blob/master/Separate_data_set.ipynb\" target=\"_parent\"><img src=\"https://colab.research.google.com/assets/colab-badge.svg\" alt=\"Open In Colab\"/></a>"
      ]
    },
    {
      "cell_type": "code",
      "metadata": {
        "id": "NYnon9-n5pwH",
        "colab_type": "code",
        "colab": {
          "base_uri": "https://localhost:8080/",
          "height": 34
        },
        "outputId": "6d9a3fcd-33e7-4df2-f0e4-999fa68fac8d"
      },
      "source": [
        "\n",
        "######used for data separation phase one\n",
        "\n",
        "\n",
        "from sklearn import datasets\n",
        "from sklearn.preprocessing import StandardScaler\n",
        "from sklearn.cluster import AgglomerativeClustering\n",
        "from sklearn.cluster import MeanShift, estimate_bandwidth\n",
        "from sklearn.datasets.samples_generator import make_blobs\n",
        "from sklearn import metrics\n",
        "from sklearn.mixture import GaussianMixture \n",
        "from sklearn.cluster import DBSCAN\n",
        "import pandas as pd\n",
        "import numpy as np\n",
        "from sklearn.cluster import SpectralClustering\n",
        "from sklearn import cluster, mixture\n",
        "from sklearn.cluster import AffinityPropagation\n",
        "from datetime import datetime, timedelta\n",
        "import datetime\n",
        "import time\n",
        "import re\n",
        "\n",
        "##data collection \n",
        "#https://drive.google.com/open?id=1LgPnMbosEOADP-7K0fNXreksQ9I3CQWY\n",
        "\n",
        "from google.colab import drive\n",
        "drive.mount('/content/drive/',force_remount=True)\n",
        "df = pd.read_csv(('/content/drive/My Drive/midlset.csv'), index_col=[2])\n",
        "df = df.dropna()\n",
        "X = df.from_records\n",
        "X = df.drop(\"tier\",1).values\n",
        "\n",
        "  \n",
        "# turn it into a dataframe \n",
        "d = pd.DataFrame(X) \n",
        "\n",
        "\n",
        "#############\n",
        "from warnings import simplefilter\n",
        "simplefilter(action='ignore', category=FutureWarning)\n",
        "from datetime import datetime,timedelta\n",
        "from datetime import datetime\n",
        "\n",
        "###########define data intervals\n",
        "from datetime import datetime,timedelta\n",
        "import pandas as pd\n",
        "\n",
        "\n",
        "\n",
        "\n",
        "u = df['dateProc'].max()\n",
        "u_max = pd.to_datetime(df['dateProc'].max())\n",
        "dat2 = (u_max - timedelta(days=7)).strftime('%Y-%m-%d')\n",
        "dat3 = (u_max - timedelta(days=31)).strftime('%Y-%m-%d')\n",
        "\n",
        "\n",
        "fmt = '%Y-%m-%d'\n",
        "fmt1 = '%Y-%m-%d'\n",
        "s = str(u_max)\n",
        "s = s[:10]\n",
        "dt =  datetime.strptime(s, fmt)\n",
        "dat2 = datetime.strptime(str(dat2), fmt).date()\n",
        "dat3 = datetime.strptime(str(dat3), fmt).date()\n",
        "u = datetime.strptime(s, fmt1).date()\n",
        "\n",
        "#print(u)\n",
        "#print(dat2)\n",
        "#print(dat3)\n",
        "\n",
        "\n",
        "df['dateProc'] = pd.to_datetime(df['dateProc'])\n",
        "mask =  (df['dateProc'] >= dat2)\n",
        "mask1 = (df['dateProc'] < dat2) & (df['dateProc'] >= dat3)\n",
        "\n",
        "\n",
        "X = df.loc[mask]\n",
        "X1 = df.loc[mask1]\n",
        "#############################################\n",
        "\n",
        "d = pd.DataFrame(X) \n",
        "d1 = pd.DataFrame(X1) \n",
        "#############################################\n",
        "\n",
        "d.to_csv('/content/drive/My Drive/month.csv') \n",
        "d1.to_csv('/content/drive/My Drive/week.csv')\n",
        "\n",
        "#############################################\n",
        "\n"
      ],
      "execution_count": 85,
      "outputs": [
        {
          "output_type": "stream",
          "text": [
            "Mounted at /content/drive/\n"
          ],
          "name": "stdout"
        }
      ]
    }
  ]
}