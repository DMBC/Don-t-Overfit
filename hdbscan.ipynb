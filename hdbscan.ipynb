{
  "nbformat": 4,
  "nbformat_minor": 0,
  "metadata": {
    "colab": {
      "name": "Untitled4.ipynb",
      "version": "0.3.2",
      "provenance": [],
      "private_outputs": true,
      "include_colab_link": true
    },
    "kernelspec": {
      "name": "python3",
      "display_name": "Python 3"
    },
    "accelerator": "GPU"
  },
  "cells": [
    {
      "cell_type": "markdown",
      "metadata": {
        "id": "view-in-github",
        "colab_type": "text"
      },
      "source": [
        "<a href=\"https://colab.research.google.com/github/DMBC/Don-t-Overfit/blob/master/hdbscan.ipynb\" target=\"_parent\"><img src=\"https://colab.research.google.com/assets/colab-badge.svg\" alt=\"Open In Colab\"/></a>"
      ]
    },
    {
      "cell_type": "code",
      "metadata": {
        "id": "uer70Fj-eoxP",
        "colab_type": "code",
        "colab": {}
      },
      "source": [
        "pip install hdbscan"
      ],
      "execution_count": 0,
      "outputs": []
    },
    {
      "cell_type": "code",
      "metadata": {
        "id": "sgmDw_8YfR9z",
        "colab_type": "code",
        "colab": {}
      },
      "source": [
        "%pylab\n",
        "import hdbscan\n",
        "import numpy as np\n",
        "import seaborn as sns\n",
        "import matplotlib.pyploy as plt\n",
        "import pandas as pd\n",
        "\n",
        "projection = np.loadtxt(\"data\")\n",
        "projection = projection[1:1001,:]\n",
        "\n",
        "clusterer = hdbscan.HDBSCAN(min_cluster_size=20, gen_min_span_tree=True)\n",
        "clusterer.fit(projection)\n",
        "\n",
        "palette = sns.color_palette()\n",
        "cluster_colors = [sns.desaturate(palette[col], sat)\n",
        "              if col >= 0 else (0.5, 0.5, 0.5) for col, sat in\n",
        "              zip(clusterer.labels_, clusterer.probabilities_)]\n",
        "\n",
        "fig = plt.scatter(panc_projection.T[0], panc_projection.T[1], c= cluster_colors)"
      ],
      "execution_count": 0,
      "outputs": []
    },
    {
      "cell_type": "code",
      "metadata": {
        "id": "kUT1_45BiiQa",
        "colab_type": "code",
        "colab": {}
      },
      "source": [
        "row_num = 0\n",
        "col_num = 0\n",
        "datasets = [noisy_circles, noisy_moons, blobs, no_structure]\n",
        "\n",
        "for i_dataset, dataset in enumerate(datasets):\n",
        "    X, y = dataset\n",
        "    # normalize dataset for easier parameter selection\n",
        "    X = StandardScaler().fit_transform(X)\n",
        "\n",
        "    # estimate bandwidth for mean shift\n",
        "    bandwidth = cluster.estimate_bandwidth(X, quantile=0.3)\n",
        "\n",
        "    # connectivity matrix for structured Ward\n",
        "    connectivity = kneighbors_graph(X, n_neighbors=10, include_self=False)\n",
        "    # make connectivity symmetric\n",
        "    connectivity = 0.5 * (connectivity + connectivity.T)\n",
        "\n",
        "    # create clustering estimators\n",
        "    ms = cluster.MeanShift(bandwidth=bandwidth, bin_seeding=True)\n",
        "    two_means = cluster.MiniBatchKMeans(n_clusters=2)\n",
        "    ward = cluster.AgglomerativeClustering(n_clusters=2, linkage='ward',\n",
        "                                           connectivity=connectivity)\n",
        "    spectral = cluster.SpectralClustering(n_clusters=2,\n",
        "                                          eigen_solver='arpack',\n",
        "                                          affinity=\"nearest_neighbors\")\n",
        "    dbscan = cluster.DBSCAN(eps=.2)\n",
        "    affinity_propagation = cluster.AffinityPropagation(damping=.9,\n",
        "                                                       preference=-200)\n",
        "\n",
        "    average_linkage = cluster.AgglomerativeClustering(\n",
        "        linkage=\"average\", affinity=\"cityblock\", n_clusters=2,\n",
        "        connectivity=connectivity)\n",
        "\n",
        "    birch = cluster.Birch(n_clusters=2)\n",
        "    clustering_algorithms = [\n",
        "        two_means, affinity_propagation, ms, spectral, ward, average_linkage,\n",
        "        dbscan, birch]\n",
        "    \n",
        "    for name, algorithm in zip(clustering_names, clustering_algorithms):\n",
        "        # predict cluster memberships\n",
        "        t0 = time.time()\n",
        "        algorithm.fit(X)\n",
        "        t1 = time.time()\n",
        "        if hasattr(algorithm, 'labels_'):\n",
        "            y_pred = algorithm.labels_.astype(np.int)\n",
        "        else:\n",
        "            y_pred = algorithm.predict(X)\n",
        "\n",
        "        # plot\n",
        "        \n",
        "        trace = go.Scatter(x=X[:, 0], y=X[:, 1], \n",
        "                           showlegend=False,\n",
        "                           mode='markers',\n",
        "                           marker=dict(color=colors[y_pred].tolist(),\n",
        "                                       size=3,)\n",
        "                          )\n",
        "\n",
        "        if hasattr(algorithm, 'cluster_centers_'):\n",
        "            centers = algorithm.cluster_centers_\n",
        "            center_colors = colors[:len(centers)]\n",
        "            center = go.Scatter(x=[centers[:, 0]], \n",
        "                                y=[centers[:, 1]], \n",
        "                                showlegend=False,\n",
        "                                mode='markers',\n",
        "                                marker=dict(color=center_colors[0],\n",
        "                                            size=3,\n",
        "                                            line=dict(color='black',\n",
        "                                                    width=1))\n",
        "                              )\n",
        "                              \n",
        "        fig.append_trace(trace, row_num%8+1,  col_num%4 +1)\n",
        "        fig.append_trace(center, row_num%8+1, col_num%4 +1)\n",
        "        \n",
        "        \n",
        "        row_num += 1\n",
        "    col_num += 1\n",
        "    py.iplot(fig, validate=False)"
      ],
      "execution_count": 0,
      "outputs": []
    }
  ]
}